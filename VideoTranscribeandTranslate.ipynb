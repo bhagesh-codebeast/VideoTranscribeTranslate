{
  "nbformat": 4,
  "nbformat_minor": 0,
  "metadata": {
    "colab": {
      "provenance": [],
      "gpuType": "T4",
      "authorship_tag": "ABX9TyP2uK0RoZy+LPWNW7HA6vhw",
      "include_colab_link": true
    },
    "kernelspec": {
      "name": "python3",
      "display_name": "Python 3"
    },
    "language_info": {
      "name": "python"
    },
    "accelerator": "GPU"
  },
  "cells": [
    {
      "cell_type": "markdown",
      "metadata": {
        "id": "view-in-github",
        "colab_type": "text"
      },
      "source": [
        "<a href=\"https://colab.research.google.com/github/bhagesh-codebeast/VideoTranscribeTranslate/blob/main/VideoTranscribeandTranslate.ipynb\" target=\"_parent\"><img src=\"https://colab.research.google.com/assets/colab-badge.svg\" alt=\"Open In Colab\"/></a>"
      ]
    },
    {
      "cell_type": "markdown",
      "source": [
        "# Convert video to text"
      ],
      "metadata": {
        "id": "EU97y1QFWCWK"
      }
    },
    {
      "cell_type": "code",
      "execution_count": null,
      "metadata": {
        "colab": {
          "base_uri": "https://localhost:8080/"
        },
        "id": "ESpGW-0IVzrP",
        "outputId": "2c381826-b9c5-4021-cb5e-70c9d6c09de5"
      },
      "outputs": [
        {
          "output_type": "stream",
          "name": "stdout",
          "text": [
            "Python 3.10.12\n"
          ]
        }
      ],
      "source": [
        "!python --version"
      ]
    },
    {
      "cell_type": "code",
      "source": [
        "!pipx ensurepath\n",
        "!apt install pipx\n",
        "!pip install pydub\n",
        "!pip install pytube\n",
        "!pip install moviepy\n",
        "!pip install -U deep-translator\n",
        "!pipx install insanely-fast-whisper\n",
        "!pip install -Uqq WhisperSpeech"
      ],
      "metadata": {
        "id": "aW4cmXZtV2Jj"
      },
      "execution_count": null,
      "outputs": []
    },
    {
      "cell_type": "code",
      "source": [
        "from deep_translator import GoogleTranslator\n",
        "GoogleTranslator().get_supported_languages(as_dict=True)"
      ],
      "metadata": {
        "id": "EW_Wi227Rt8N"
      },
      "execution_count": null,
      "outputs": []
    },
    {
      "cell_type": "code",
      "source": [
        "import os\n",
        "import re\n",
        "import json\n",
        "import glob\n",
        "import torch\n",
        "import subprocess\n",
        "from pytube import YouTube\n",
        "from pydub import AudioSegment\n",
        "import torch.nn.functional as F\n",
        "from moviepy.editor import VideoFileClip\n",
        "from whisperspeech.pipeline import Pipeline\n",
        "from deep_translator import GoogleTranslator\n",
        "\n",
        "\n",
        "class videoTranscribeandTranslate:\n",
        "  def __init__(self, input_video_path,  ifw_path, output_audio_path=os.path.join(os.getcwd(),'downloaded_audio.mp3'), ifw_transcript=os.path.join(os.getcwd(),'downloaded_timestamp.json'),translate=True,source='auto',language='en',speaker=os.path.join(os.getcwd(),'downloaded_audio.mp3'),translated_audio=os.path.join(os.getcwd(),'translated_audio.mp3')):\n",
        "    self.input_video_path = input_video_path\n",
        "    self.output_audio_path = output_audio_path\n",
        "    self.ifw_transcript = ifw_transcript\n",
        "    self.ifw_path = ifw_path\n",
        "    self.translate = translate\n",
        "    self.source = source\n",
        "    self.language = language\n",
        "    self.speaker = speaker\n",
        "    self.translated_audio = translated_audio\n",
        "  def getAudio(self):\n",
        "    if self.input_video_path and self.input_video_path.startswith('http'):\n",
        "      YouTube(self.input_video_path).streams.filter(only_audio=True, file_extension='mp4').first().download(filename=self.output_audio_path)\n",
        "    else:\n",
        "      video_clip = VideoFileClip(self.input_video_path)\n",
        "      audio_clip = video_clip.audio\n",
        "      audio_clip.write_audiofile(self.output_audio_path, codec='mp3')\n",
        "    return self.output_audio_path\n",
        "  def transcribeAudio(self):\n",
        "    if os.path.exists(self.getAudio()):\n",
        "      output_json_path = ''\n",
        "      command = [self.ifw_path, \"--transcript-path\", self.ifw_transcript, \"--file-name\", self.output_audio_path]\n",
        "      result = subprocess.run(command, stdout=subprocess.PIPE, stderr=subprocess.PIPE, text=True)\n",
        "      if result.returncode == 0:\n",
        "        match = re.search(r'output\\.json', result.stdout)\n",
        "        if match:\n",
        "          output_json_path = match.group()\n",
        "      return output_json_path\n",
        "  def getText(self):\n",
        "    self.transcribeAudio()\n",
        "    text = json.loads(open(self.ifw_transcript, \"r\").read()).get(\"text\", \"\")\n",
        "    return text\n",
        "  def translateText(self):\n",
        "    if self.translate:\n",
        "      string = self.getText()\n",
        "      translated = {}\n",
        "      result_list = [string[i:i+2000] if i+2000 >= len(string) else string[i:i+2000].rsplit(' ', 1)[0] for i in range(0, len(string), 2000)]\n",
        "      for text in result_list:\n",
        "        translated[text] = {GoogleTranslator(source=self.source, target=self.language).translate(text=str(text))}\n",
        "      return translated\n",
        "  def changeAudio(self):\n",
        "    if self.language == 'en':\n",
        "      # string = self.getText()\n",
        "      # result_list = [string[i:i+2000] if i+2000 >= len(string) else string[i:i+2000].rsplit(' ', 1)[0] for i in range(0, len(string), 2000)]\n",
        "      result_list = self.translateText().values()\n",
        "      # Q4 tiny model\n",
        "      pipe = Pipeline(s2a_ref='collabora/whisperspeech:s2a-q4-tiny-en+pl.model')\n",
        "      # Q4 small model\n",
        "      # pipe = Pipeline()\n",
        "      for i, item in enumerate(result_list, 1):\n",
        "        filename = os.path.join(os.path.dirname(self.translated_audio),f\"temp_{i}.mp3\")\n",
        "        pipe.generate_to_file(filename, f\"\"\"{item}\"\"\", lang=self.language, speaker=self.speaker)\n",
        "      mp3_files = glob.glob(os.path.join(os.path.dirname(self.translated_audio),\"temp_*.mp3\"))\n",
        "      mp3_files.sort(key=lambda x: int(x.split(\"_\")[1].split(\".\")[0]))\n",
        "      merged_audio = AudioSegment.silent()\n",
        "      for mp3_file in mp3_files:\n",
        "        audio_segment = AudioSegment.from_file(mp3_file, format=\"mp3\")\n",
        "        merged_audio += audio_segment\n",
        "      merged_audio.export(self.translated_audio, format=\"mp3\")\n",
        "      for mp3_file in mp3_files:\n",
        "        os.remove(mp3_file)\n",
        "      return self.translated_audio\n"
      ],
      "metadata": {
        "id": "KlnbAqoeXbGQ"
      },
      "execution_count": 27,
      "outputs": []
    },
    {
      "cell_type": "code",
      "source": [
        "input_video_path = 'https://www.youtube.com/watch?v=p8QOnty6rSU'\n",
        "ifw_path = '/root/.local/pipx/venvs/insanely-fast-whisper/bin/insanely-fast-whisper'\n",
        "\n",
        "instance = videoTranscribeandTranslate(input_video_path, ifw_path)"
      ],
      "metadata": {
        "id": "PhdMymYojr9G"
      },
      "execution_count": 28,
      "outputs": []
    },
    {
      "cell_type": "code",
      "source": [
        "%%time\n",
        "text = instance.changeAudio()"
      ],
      "metadata": {
        "colab": {
          "base_uri": "https://localhost:8080/",
          "height": 326
        },
        "id": "-shxmgYfkD_u",
        "outputId": "248cb006-6299-4c99-ef0a-c69546b2fef0"
      },
      "execution_count": 29,
      "outputs": [
        {
          "output_type": "stream",
          "name": "stderr",
          "text": [
            "WARNING:py.warnings:/usr/local/lib/python3.10/dist-packages/torch/nn/utils/weight_norm.py:30: UserWarning: torch.nn.utils.weight_norm is deprecated in favor of torch.nn.utils.parametrizations.weight_norm.\n",
            "  warnings.warn(\"torch.nn.utils.weight_norm is deprecated in favor of torch.nn.utils.parametrizations.weight_norm.\")\n",
            "\n"
          ]
        },
        {
          "output_type": "display_data",
          "data": {
            "text/plain": [
              "<IPython.core.display.HTML object>"
            ],
            "text/html": [
              "\n",
              "<style>\n",
              "    /* Turns off some styling */\n",
              "    progress {\n",
              "        /* gets rid of default border in Firefox and Opera. */\n",
              "        border: none;\n",
              "        /* Needs to be in here for Safari polyfill so background images work as expected. */\n",
              "        background-size: auto;\n",
              "    }\n",
              "    progress:not([value]), progress:not([value])::-webkit-progress-bar {\n",
              "        background: repeating-linear-gradient(45deg, #7e7e7e, #7e7e7e 10px, #5c5c5c 10px, #5c5c5c 20px);\n",
              "    }\n",
              "    .progress-bar-interrupted, .progress-bar-interrupted::-webkit-progress-bar {\n",
              "        background: #F44336;\n",
              "    }\n",
              "</style>\n"
            ]
          },
          "metadata": {}
        },
        {
          "output_type": "display_data",
          "data": {
            "text/plain": [
              "<IPython.core.display.HTML object>"
            ],
            "text/html": [
              "\n",
              "    <div>\n",
              "      <progress value='749' class='' max='749' style='width:300px; height:20px; vertical-align: middle;'></progress>\n",
              "      100.00% [749/749 00:17&lt;00:00]\n",
              "    </div>\n",
              "    "
            ]
          },
          "metadata": {}
        },
        {
          "output_type": "display_data",
          "data": {
            "text/plain": [
              "<IPython.core.display.HTML object>"
            ],
            "text/html": [
              "\n",
              "<style>\n",
              "    /* Turns off some styling */\n",
              "    progress {\n",
              "        /* gets rid of default border in Firefox and Opera. */\n",
              "        border: none;\n",
              "        /* Needs to be in here for Safari polyfill so background images work as expected. */\n",
              "        background-size: auto;\n",
              "    }\n",
              "    progress:not([value]), progress:not([value])::-webkit-progress-bar {\n",
              "        background: repeating-linear-gradient(45deg, #7e7e7e, #7e7e7e 10px, #5c5c5c 10px, #5c5c5c 20px);\n",
              "    }\n",
              "    .progress-bar-interrupted, .progress-bar-interrupted::-webkit-progress-bar {\n",
              "        background: #F44336;\n",
              "    }\n",
              "</style>\n"
            ]
          },
          "metadata": {}
        },
        {
          "output_type": "display_data",
          "data": {
            "text/plain": [
              "<IPython.core.display.HTML object>"
            ],
            "text/html": [
              "\n",
              "    <div>\n",
              "      <progress value='2248' class='' max='2248' style='width:300px; height:20px; vertical-align: middle;'></progress>\n",
              "      100.00% [2248/2248 00:30&lt;00:00]\n",
              "    </div>\n",
              "    "
            ]
          },
          "metadata": {}
        },
        {
          "output_type": "display_data",
          "data": {
            "text/plain": [
              "<IPython.core.display.HTML object>"
            ],
            "text/html": [
              "\n",
              "<style>\n",
              "    /* Turns off some styling */\n",
              "    progress {\n",
              "        /* gets rid of default border in Firefox and Opera. */\n",
              "        border: none;\n",
              "        /* Needs to be in here for Safari polyfill so background images work as expected. */\n",
              "        background-size: auto;\n",
              "    }\n",
              "    progress:not([value]), progress:not([value])::-webkit-progress-bar {\n",
              "        background: repeating-linear-gradient(45deg, #7e7e7e, #7e7e7e 10px, #5c5c5c 10px, #5c5c5c 20px);\n",
              "    }\n",
              "    .progress-bar-interrupted, .progress-bar-interrupted::-webkit-progress-bar {\n",
              "        background: #F44336;\n",
              "    }\n",
              "</style>\n"
            ]
          },
          "metadata": {}
        },
        {
          "output_type": "display_data",
          "data": {
            "text/plain": [
              "<IPython.core.display.HTML object>"
            ],
            "text/html": [
              "\n",
              "    <div>\n",
              "      <progress value='749' class='' max='749' style='width:300px; height:20px; vertical-align: middle;'></progress>\n",
              "      100.00% [749/749 00:17&lt;00:00]\n",
              "    </div>\n",
              "    "
            ]
          },
          "metadata": {}
        },
        {
          "output_type": "display_data",
          "data": {
            "text/plain": [
              "<IPython.core.display.HTML object>"
            ],
            "text/html": [
              "\n",
              "<style>\n",
              "    /* Turns off some styling */\n",
              "    progress {\n",
              "        /* gets rid of default border in Firefox and Opera. */\n",
              "        border: none;\n",
              "        /* Needs to be in here for Safari polyfill so background images work as expected. */\n",
              "        background-size: auto;\n",
              "    }\n",
              "    progress:not([value]), progress:not([value])::-webkit-progress-bar {\n",
              "        background: repeating-linear-gradient(45deg, #7e7e7e, #7e7e7e 10px, #5c5c5c 10px, #5c5c5c 20px);\n",
              "    }\n",
              "    .progress-bar-interrupted, .progress-bar-interrupted::-webkit-progress-bar {\n",
              "        background: #F44336;\n",
              "    }\n",
              "</style>\n"
            ]
          },
          "metadata": {}
        },
        {
          "output_type": "display_data",
          "data": {
            "text/plain": [
              "<IPython.core.display.HTML object>"
            ],
            "text/html": [
              "\n",
              "    <div>\n",
              "      <progress value='2248' class='' max='2248' style='width:300px; height:20px; vertical-align: middle;'></progress>\n",
              "      100.00% [2248/2248 00:30&lt;00:00]\n",
              "    </div>\n",
              "    "
            ]
          },
          "metadata": {}
        },
        {
          "output_type": "display_data",
          "data": {
            "text/plain": [
              "<IPython.core.display.HTML object>"
            ],
            "text/html": [
              "\n",
              "<style>\n",
              "    /* Turns off some styling */\n",
              "    progress {\n",
              "        /* gets rid of default border in Firefox and Opera. */\n",
              "        border: none;\n",
              "        /* Needs to be in here for Safari polyfill so background images work as expected. */\n",
              "        background-size: auto;\n",
              "    }\n",
              "    progress:not([value]), progress:not([value])::-webkit-progress-bar {\n",
              "        background: repeating-linear-gradient(45deg, #7e7e7e, #7e7e7e 10px, #5c5c5c 10px, #5c5c5c 20px);\n",
              "    }\n",
              "    .progress-bar-interrupted, .progress-bar-interrupted::-webkit-progress-bar {\n",
              "        background: #F44336;\n",
              "    }\n",
              "</style>\n"
            ]
          },
          "metadata": {}
        },
        {
          "output_type": "display_data",
          "data": {
            "text/plain": [
              "<IPython.core.display.HTML object>"
            ],
            "text/html": [
              "\n",
              "    <div>\n",
              "      <progress value='749' class='' max='749' style='width:300px; height:20px; vertical-align: middle;'></progress>\n",
              "      100.00% [749/749 00:16&lt;00:00]\n",
              "    </div>\n",
              "    "
            ]
          },
          "metadata": {}
        },
        {
          "output_type": "display_data",
          "data": {
            "text/plain": [
              "<IPython.core.display.HTML object>"
            ],
            "text/html": [
              "\n",
              "<style>\n",
              "    /* Turns off some styling */\n",
              "    progress {\n",
              "        /* gets rid of default border in Firefox and Opera. */\n",
              "        border: none;\n",
              "        /* Needs to be in here for Safari polyfill so background images work as expected. */\n",
              "        background-size: auto;\n",
              "    }\n",
              "    progress:not([value]), progress:not([value])::-webkit-progress-bar {\n",
              "        background: repeating-linear-gradient(45deg, #7e7e7e, #7e7e7e 10px, #5c5c5c 10px, #5c5c5c 20px);\n",
              "    }\n",
              "    .progress-bar-interrupted, .progress-bar-interrupted::-webkit-progress-bar {\n",
              "        background: #F44336;\n",
              "    }\n",
              "</style>\n"
            ]
          },
          "metadata": {}
        },
        {
          "output_type": "display_data",
          "data": {
            "text/plain": [
              "<IPython.core.display.HTML object>"
            ],
            "text/html": [
              "\n",
              "    <div>\n",
              "      <progress value='2248' class='' max='2248' style='width:300px; height:20px; vertical-align: middle;'></progress>\n",
              "      100.00% [2248/2248 00:30&lt;00:00]\n",
              "    </div>\n",
              "    "
            ]
          },
          "metadata": {}
        },
        {
          "output_type": "display_data",
          "data": {
            "text/plain": [
              "<IPython.core.display.HTML object>"
            ],
            "text/html": [
              "\n",
              "<style>\n",
              "    /* Turns off some styling */\n",
              "    progress {\n",
              "        /* gets rid of default border in Firefox and Opera. */\n",
              "        border: none;\n",
              "        /* Needs to be in here for Safari polyfill so background images work as expected. */\n",
              "        background-size: auto;\n",
              "    }\n",
              "    progress:not([value]), progress:not([value])::-webkit-progress-bar {\n",
              "        background: repeating-linear-gradient(45deg, #7e7e7e, #7e7e7e 10px, #5c5c5c 10px, #5c5c5c 20px);\n",
              "    }\n",
              "    .progress-bar-interrupted, .progress-bar-interrupted::-webkit-progress-bar {\n",
              "        background: #F44336;\n",
              "    }\n",
              "</style>\n"
            ]
          },
          "metadata": {}
        },
        {
          "output_type": "display_data",
          "data": {
            "text/plain": [
              "<IPython.core.display.HTML object>"
            ],
            "text/html": [
              "\n",
              "    <div>\n",
              "      <progress value='749' class='' max='749' style='width:300px; height:20px; vertical-align: middle;'></progress>\n",
              "      100.00% [749/749 00:16&lt;00:00]\n",
              "    </div>\n",
              "    "
            ]
          },
          "metadata": {}
        },
        {
          "output_type": "display_data",
          "data": {
            "text/plain": [
              "<IPython.core.display.HTML object>"
            ],
            "text/html": [
              "\n",
              "<style>\n",
              "    /* Turns off some styling */\n",
              "    progress {\n",
              "        /* gets rid of default border in Firefox and Opera. */\n",
              "        border: none;\n",
              "        /* Needs to be in here for Safari polyfill so background images work as expected. */\n",
              "        background-size: auto;\n",
              "    }\n",
              "    progress:not([value]), progress:not([value])::-webkit-progress-bar {\n",
              "        background: repeating-linear-gradient(45deg, #7e7e7e, #7e7e7e 10px, #5c5c5c 10px, #5c5c5c 20px);\n",
              "    }\n",
              "    .progress-bar-interrupted, .progress-bar-interrupted::-webkit-progress-bar {\n",
              "        background: #F44336;\n",
              "    }\n",
              "</style>\n"
            ]
          },
          "metadata": {}
        },
        {
          "output_type": "display_data",
          "data": {
            "text/plain": [
              "<IPython.core.display.HTML object>"
            ],
            "text/html": [
              "\n",
              "    <div>\n",
              "      <progress value='2248' class='' max='2248' style='width:300px; height:20px; vertical-align: middle;'></progress>\n",
              "      100.00% [2248/2248 00:30&lt;00:00]\n",
              "    </div>\n",
              "    "
            ]
          },
          "metadata": {}
        },
        {
          "output_type": "display_data",
          "data": {
            "text/plain": [
              "<IPython.core.display.HTML object>"
            ],
            "text/html": [
              "\n",
              "<style>\n",
              "    /* Turns off some styling */\n",
              "    progress {\n",
              "        /* gets rid of default border in Firefox and Opera. */\n",
              "        border: none;\n",
              "        /* Needs to be in here for Safari polyfill so background images work as expected. */\n",
              "        background-size: auto;\n",
              "    }\n",
              "    progress:not([value]), progress:not([value])::-webkit-progress-bar {\n",
              "        background: repeating-linear-gradient(45deg, #7e7e7e, #7e7e7e 10px, #5c5c5c 10px, #5c5c5c 20px);\n",
              "    }\n",
              "    .progress-bar-interrupted, .progress-bar-interrupted::-webkit-progress-bar {\n",
              "        background: #F44336;\n",
              "    }\n",
              "</style>\n"
            ]
          },
          "metadata": {}
        },
        {
          "output_type": "display_data",
          "data": {
            "text/plain": [
              "<IPython.core.display.HTML object>"
            ],
            "text/html": [
              "\n",
              "    <div>\n",
              "      <progress value='693' class='' max='749' style='width:300px; height:20px; vertical-align: middle;'></progress>\n",
              "      92.52% [693/749 00:15&lt;00:01]\n",
              "    </div>\n",
              "    "
            ]
          },
          "metadata": {}
        },
        {
          "output_type": "display_data",
          "data": {
            "text/plain": [
              "<IPython.core.display.HTML object>"
            ],
            "text/html": [
              "\n",
              "<style>\n",
              "    /* Turns off some styling */\n",
              "    progress {\n",
              "        /* gets rid of default border in Firefox and Opera. */\n",
              "        border: none;\n",
              "        /* Needs to be in here for Safari polyfill so background images work as expected. */\n",
              "        background-size: auto;\n",
              "    }\n",
              "    progress:not([value]), progress:not([value])::-webkit-progress-bar {\n",
              "        background: repeating-linear-gradient(45deg, #7e7e7e, #7e7e7e 10px, #5c5c5c 10px, #5c5c5c 20px);\n",
              "    }\n",
              "    .progress-bar-interrupted, .progress-bar-interrupted::-webkit-progress-bar {\n",
              "        background: #F44336;\n",
              "    }\n",
              "</style>\n"
            ]
          },
          "metadata": {}
        },
        {
          "output_type": "display_data",
          "data": {
            "text/plain": [
              "<IPython.core.display.HTML object>"
            ],
            "text/html": [
              "\n",
              "    <div>\n",
              "      <progress value='2102' class='' max='2102' style='width:300px; height:20px; vertical-align: middle;'></progress>\n",
              "      100.00% [2102/2102 00:28&lt;00:00]\n",
              "    </div>\n",
              "    "
            ]
          },
          "metadata": {}
        },
        {
          "output_type": "stream",
          "name": "stdout",
          "text": [
            "CPU times: user 4min 8s, sys: 2.3 s, total: 4min 11s\n",
            "Wall time: 5min 32s\n"
          ]
        }
      ]
    },
    {
      "cell_type": "markdown",
      "source": [
        "----------------------------------------------------"
      ],
      "metadata": {
        "id": "MQ33Vd4QV6ua"
      }
    },
    {
      "cell_type": "markdown",
      "source": [
        "# References\n",
        "## 1. [insanely-fast-whisper](https://github.com/Vaibhavs10/insanely-fast-whisper)\n",
        "## 2. [Youtube Summariser](https://github.com/jxcinta/youtube_summariser/blob/main/youtube_summariser.py)\n",
        "## 3. [WhisperSpeech](https://github.com/collabora/WhisperSpeech/tree/main)"
      ],
      "metadata": {
        "id": "gXZcSJ_iTCdD"
      }
    }
  ]
}