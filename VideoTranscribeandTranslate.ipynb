{
  "nbformat": 4,
  "nbformat_minor": 0,
  "metadata": {
    "colab": {
      "provenance": [],
      "gpuType": "T4",
      "authorship_tag": "ABX9TyObmJtaDc0sUkZQIo5BorHl",
      "include_colab_link": true
    },
    "kernelspec": {
      "name": "python3",
      "display_name": "Python 3"
    },
    "language_info": {
      "name": "python"
    },
    "accelerator": "GPU"
  },
  "cells": [
    {
      "cell_type": "markdown",
      "metadata": {
        "id": "view-in-github",
        "colab_type": "text"
      },
      "source": [
        "<a href=\"https://colab.research.google.com/github/bhagesh-codebeast/VideoTranscribeTranslate/blob/main/VideoTranscribeandTranslate.ipynb\" target=\"_parent\"><img src=\"https://colab.research.google.com/assets/colab-badge.svg\" alt=\"Open In Colab\"/></a>"
      ]
    },
    {
      "cell_type": "markdown",
      "source": [
        "# Video Transcribe and Translate"
      ],
      "metadata": {
        "id": "EU97y1QFWCWK"
      }
    },
    {
      "cell_type": "code",
      "execution_count": null,
      "metadata": {
        "id": "ESpGW-0IVzrP"
      },
      "outputs": [],
      "source": [
        "!python --version"
      ]
    },
    {
      "cell_type": "code",
      "source": [
        "!pipx ensurepath\n",
        "!apt install pipx\n",
        "!pip install pydub\n",
        "!pip install pytube\n",
        "!pip install moviepy\n",
        "!pip install -U deep-translator\n",
        "!pipx install insanely-fast-whisper --force\n",
        "!pip install -Uqq WhisperSpeech"
      ],
      "metadata": {
        "id": "aW4cmXZtV2Jj"
      },
      "execution_count": null,
      "outputs": []
    },
    {
      "cell_type": "code",
      "source": [
        "from deep_translator import GoogleTranslator\n",
        "GoogleTranslator().get_supported_languages(as_dict=True)"
      ],
      "metadata": {
        "id": "EW_Wi227Rt8N"
      },
      "execution_count": null,
      "outputs": []
    },
    {
      "cell_type": "code",
      "source": [
        "import os\n",
        "import re\n",
        "import json\n",
        "import glob\n",
        "import torch\n",
        "import subprocess\n",
        "from pytube import YouTube\n",
        "from datetime import datetime\n",
        "from pydub import AudioSegment\n",
        "import torch.nn.functional as F\n",
        "from moviepy.editor import VideoFileClip\n",
        "from whisperspeech.pipeline import Pipeline\n",
        "from deep_translator import GoogleTranslator\n",
        "\n",
        "\n",
        "class videoTranscribeandTranslate:\n",
        "  def __init__(self, input_video_path='',  ifw_path='', output_audio_path=os.path.join(os.getcwd(),'downloaded_audio.mp3'), ifw_transcript=os.path.join(os.getcwd(),'downloaded_timestamp.json'),source='auto',language='en',speaker=os.path.join(os.getcwd(),'downloaded_audio.mp3'),translated_audio=os.path.join(os.getcwd(),'translated_audio.mp3'), custom_text=''):\n",
        "    date = datetime.now().strftime(\"%Y_%m_%d_%H_%M_%S\")\n",
        "    self.input_video_path = input_video_path\n",
        "    self.output_audio_path = output_audio_path.split('.')[0]+'_'+date+'.'+output_audio_path.split('.')[1]\n",
        "    self.ifw_transcript = ifw_transcript.split('.')[0]+'_'+date+'.'+ifw_transcript.split('.')[1]\n",
        "    self.ifw_path = ifw_path\n",
        "    self.source = source\n",
        "    self.language = language\n",
        "    self.speaker = speaker\n",
        "    self.translated_audio = translated_audio.split('.')[0]+'_'+date+'.'+translated_audio.split('.')[1]\n",
        "    self.custom_text = custom_text\n",
        "  def getAudio(self):\n",
        "    if self.input_video_path.startswith('https'):\n",
        "      YouTube(self.input_video_path).streams.filter(only_audio=True, file_extension='mp4').first().download(filename=self.output_audio_path)\n",
        "    elif os.path.exists(self.input_video_path):\n",
        "      video_clip = VideoFileClip(self.input_video_path)\n",
        "      audio_clip = video_clip.audio\n",
        "      audio_clip.write_audiofile(self.output_audio_path, codec='mp3')\n",
        "    return self.output_audio_path\n",
        "  def transcribeAudio(self):\n",
        "    if os.path.exists(self.getAudio()):\n",
        "      command = [self.ifw_path, \"--transcript-path\", self.ifw_transcript, \"--file-name\", self.output_audio_path]\n",
        "      result = subprocess.run(command, stdout=subprocess.PIPE, stderr=subprocess.PIPE, text=True)\n",
        "      if result.returncode == 0:\n",
        "        return self.ifw_transcript\n",
        "  def getText(self):\n",
        "    self.transcribeAudio()\n",
        "    if os.path.exists(self.ifw_transcript):\n",
        "      text = json.loads(open(self.ifw_transcript, \"r\").read()).get(\"text\", \"\")\n",
        "      return text\n",
        "  def translateText(self):\n",
        "    string = self.getText()\n",
        "    translated = {}\n",
        "    if len(string) > 3000:\n",
        "      result_list = [string[i:i+2000] if i+2000 >= len(string) else string[i:i+2000].rsplit(' ', 1)[0] for i in range(0, len(string), 2000)]\n",
        "    else:\n",
        "      result_list = [string]\n",
        "    for text in result_list:\n",
        "      translated[text] = {GoogleTranslator(source=self.source, target=self.language).translate(text=str(text))}\n",
        "    return translated\n",
        "  def changeAudio(self):\n",
        "    if self.language == 'en':\n",
        "      result_list = []\n",
        "      if self.custom_text:\n",
        "        string = self.custom_text\n",
        "        if len(string) > 3000:\n",
        "          result_list = [string[i:i+2000] if i+2000 >= len(string) else string[i:i+2000].rsplit(' ', 1)[0] for i in range(0, len(string), 2000)]\n",
        "        else:\n",
        "          result_list = [string]\n",
        "      else:\n",
        "        result_list = self.translateText().values()\n",
        "        if not len(result_list) > 0:\n",
        "          result_list = [self.getText()]\n",
        "      # Q4 tiny model\n",
        "      # pipe = Pipeline(s2a_ref='collabora/whisperspeech:s2a-q4-tiny-en+pl.model')\n",
        "      # Q4 small model\n",
        "      pipe = Pipeline()\n",
        "      for i, item in enumerate(result_list, 1):\n",
        "        filename = os.path.join(os.path.dirname(self.translated_audio),f\"temp_{i}.mp3\")\n",
        "        pipe.generate_to_file(filename, f\"\"\"{item}\"\"\", lang=self.language, speaker=self.speaker)\n",
        "      mp3_files = glob.glob(os.path.join(os.path.dirname(self.translated_audio),\"temp_*.mp3\"))\n",
        "      mp3_files.sort(key=lambda x: int(x.split(\"_\")[1].split(\".\")[0]))\n",
        "      merged_audio = AudioSegment.silent()\n",
        "      for mp3_file in mp3_files:\n",
        "        audio_segment = AudioSegment.from_file(mp3_file, format=\"mp3\")\n",
        "        merged_audio += audio_segment\n",
        "      merged_audio.export(self.translated_audio, format=\"mp3\")\n",
        "      for mp3_file in mp3_files:\n",
        "        os.remove(mp3_file)\n",
        "      os.remove(self.input_video_path)\n",
        "      return self.translated_audio\n"
      ],
      "metadata": {
        "id": "KlnbAqoeXbGQ"
      },
      "execution_count": 18,
      "outputs": []
    },
    {
      "cell_type": "code",
      "source": [
        "from IPython.display import Audio, display\n",
        "\n",
        "ifw_path = '/root/.local/pipx/venvs/insanely-fast-whisper/bin/insanely-fast-whisper'"
      ],
      "metadata": {
        "id": "PhdMymYojr9G"
      },
      "execution_count": 21,
      "outputs": []
    },
    {
      "cell_type": "markdown",
      "source": [
        "## Get Audio (Speaker)"
      ],
      "metadata": {
        "id": "jAPfEiPK-IaC"
      }
    },
    {
      "cell_type": "code",
      "source": [
        "%%time\n",
        "voiceover = 'https://www.youtube.com/watch?v=gA-FA2a6ESI'\n",
        "instance2 = videoTranscribeandTranslate(voiceover, ifw_path, output_audio_path=os.path.join(os.getcwd(),'voiceover_audio.mp3'))\n",
        "speaker = instance2.getAudio()\n",
        "\n",
        "display(Audio(speaker, autoplay=True))"
      ],
      "metadata": {
        "id": "evjTWG9LAacL"
      },
      "execution_count": null,
      "outputs": []
    },
    {
      "cell_type": "markdown",
      "source": [
        "## Convert Text to Audio"
      ],
      "metadata": {
        "id": "f3IpsPE9-OyH"
      }
    },
    {
      "cell_type": "code",
      "source": [
        "%%time\n",
        "in_text = 'the temple town of tirupati in chitturu district of Andra Pradesh, its existance to the temple of lord Shri Venkateshwara on the the Tirumala hill nextling among the 7 hills in the Eastern Ghats.'\n",
        "instance3 = videoTranscribeandTranslate(ifw_path, speaker=speaker, custom_text=in_text)\n",
        "\n",
        "display(Audio(instance3.changeAudio(), autoplay=True))"
      ],
      "metadata": {
        "id": "lL9k9vlt2H-q"
      },
      "execution_count": null,
      "outputs": []
    },
    {
      "cell_type": "markdown",
      "source": [
        "## Change Audio"
      ],
      "metadata": {
        "id": "u3jzXDHEBS8o"
      }
    },
    {
      "cell_type": "code",
      "source": [
        "%%time\n",
        "input_video = 'https://www.youtube.com/watch?v=p8QOnty6rSU'\n",
        "instance = videoTranscribeandTranslate(input_video, ifw_path, speaker=speaker)\n",
        "\n",
        "display(Audio(instance.changeAudio(), autoplay=True))"
      ],
      "metadata": {
        "id": "-shxmgYfkD_u"
      },
      "execution_count": null,
      "outputs": []
    },
    {
      "cell_type": "markdown",
      "source": [
        "# References\n",
        "### 1. [insanely-fast-whisper](https://github.com/Vaibhavs10/insanely-fast-whisper)\n",
        "### 2. [Youtube Summariser](https://github.com/jxcinta/youtube_summariser/blob/main/youtube_summariser.py)\n",
        "### 3. [WhisperSpeech](https://github.com/collabora/WhisperSpeech/tree/main)"
      ],
      "metadata": {
        "id": "gXZcSJ_iTCdD"
      }
    },
    {
      "cell_type": "code",
      "source": [],
      "metadata": {
        "id": "Rb2JC3dkBcSZ"
      },
      "execution_count": null,
      "outputs": []
    }
  ]
}