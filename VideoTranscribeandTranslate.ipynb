{
  "nbformat": 4,
  "nbformat_minor": 0,
  "metadata": {
    "colab": {
      "provenance": [],
      "gpuType": "T4",
      "authorship_tag": "ABX9TyN0CeF+uq+zYEv8TozE+Wg7",
      "include_colab_link": true
    },
    "kernelspec": {
      "name": "python3",
      "display_name": "Python 3"
    },
    "language_info": {
      "name": "python"
    },
    "accelerator": "GPU"
  },
  "cells": [
    {
      "cell_type": "markdown",
      "metadata": {
        "id": "view-in-github",
        "colab_type": "text"
      },
      "source": [
        "<a href=\"https://colab.research.google.com/github/bhagesh-codebeast/VideoTranscribeTranslate/blob/main/VideoTranscribeandTranslate.ipynb\" target=\"_parent\"><img src=\"https://colab.research.google.com/assets/colab-badge.svg\" alt=\"Open In Colab\"/></a>"
      ]
    },
    {
      "cell_type": "markdown",
      "source": [
        "# Convert video to text"
      ],
      "metadata": {
        "id": "EU97y1QFWCWK"
      }
    },
    {
      "cell_type": "code",
      "execution_count": 3,
      "metadata": {
        "colab": {
          "base_uri": "https://localhost:8080/"
        },
        "id": "ESpGW-0IVzrP",
        "outputId": "b2ccff74-b909-442d-c6ee-f2ccdb570f50"
      },
      "outputs": [
        {
          "output_type": "stream",
          "name": "stdout",
          "text": [
            "Python 3.10.12\n"
          ]
        }
      ],
      "source": [
        "!python --version"
      ]
    },
    {
      "cell_type": "code",
      "source": [
        "!pipx ensurepath\n",
        "!apt install pipx\n",
        "!pip install pytube\n",
        "!pip install moviepy\n",
        "!pip install -U deep-translator\n",
        "!pipx install insanely-fast-whisper"
      ],
      "metadata": {
        "id": "aW4cmXZtV2Jj"
      },
      "execution_count": null,
      "outputs": []
    },
    {
      "cell_type": "code",
      "source": [
        "from deep_translator import GoogleTranslator\n",
        "GoogleTranslator().get_supported_languages(as_dict=True)"
      ],
      "metadata": {
        "id": "EW_Wi227Rt8N"
      },
      "execution_count": null,
      "outputs": []
    },
    {
      "cell_type": "code",
      "source": [
        "import os\n",
        "import re\n",
        "import json\n",
        "import subprocess\n",
        "from pytube import YouTube\n",
        "from moviepy.editor import VideoFileClip\n",
        "from deep_translator import GoogleTranslator\n",
        "\n",
        "class videoTranscribe:\n",
        "  def __init__(self, input_video_path,  ifw_path, output_audio_path=os.path.join(os.getcwd(),'output_audio.mp3'), ifw_transcript=os.path.join(os.getcwd(),'output.json'),translate=True,source='auto',language='hi'):\n",
        "    self.input_video_path = input_video_path\n",
        "    self.output_audio_path = output_audio_path\n",
        "    self.ifw_transcript = ifw_transcript\n",
        "    self.ifw_path = ifw_path\n",
        "    self.translate = translate\n",
        "    self.source = source\n",
        "    self.language = language\n",
        "  def getAudio(self):\n",
        "    if self.input_video_path and self.input_video_path.startswith('http'):\n",
        "      YouTube(self.input_video_path).streams.filter(only_audio=True, file_extension='mp4').first().download(filename=self.output_audio_path)\n",
        "    else:\n",
        "      video_clip = VideoFileClip(self.input_video_path)\n",
        "      audio_clip = video_clip.audio\n",
        "      audio_clip.write_audiofile(self.output_audio_path, codec='mp3')\n",
        "    return self.output_audio_path\n",
        "  def transcribeAudio(self):\n",
        "    if os.path.exists(self.getAudio()):\n",
        "      command = [self.ifw_path, \"--transcript-path\", self.ifw_transcript, \"--file-name\", self.output_audio_path]\n",
        "      result = subprocess.run(command, stdout=subprocess.PIPE, stderr=subprocess.PIPE, text=True)\n",
        "      if result.returncode == 0:\n",
        "        match = re.search(r'output\\.json', result.stdout)\n",
        "        if match:\n",
        "          output_json_path = match.group()\n",
        "      return output_json_path\n",
        "  def getText(self):\n",
        "    self.transcribeAudio()\n",
        "    text = json.loads(open(self.ifw_transcript, \"r\").read()).get(\"text\", \"\")\n",
        "    return text\n",
        "  def translateText(self):\n",
        "    if self.translate:\n",
        "      text_data = self.getText()\n",
        "      translated = {}\n",
        "      for text in text_data.split('.'):\n",
        "        if text:\n",
        "          translated[text] = {GoogleTranslator(source=self.source, target=self.language).translate(text=str(text))}\n",
        "      return translated\n"
      ],
      "metadata": {
        "id": "KlnbAqoeXbGQ"
      },
      "execution_count": 12,
      "outputs": []
    },
    {
      "cell_type": "code",
      "source": [
        "input_video_path = 'https://www.youtube.com/watch?v=p8QOnty6rSU'\n",
        "ifw_path = '/root/.local/pipx/venvs/insanely-fast-whisper/bin/insanely-fast-whisper'\n",
        "\n",
        "instance = videoTranscribe(input_video_path, ifw_path)"
      ],
      "metadata": {
        "id": "PhdMymYojr9G"
      },
      "execution_count": 16,
      "outputs": []
    },
    {
      "cell_type": "code",
      "source": [
        "%%time\n",
        "text = instance.translateText()"
      ],
      "metadata": {
        "colab": {
          "base_uri": "https://localhost:8080/"
        },
        "id": "-shxmgYfkD_u",
        "outputId": "49453bef-b66a-4a12-e040-e9aab7ea7bda"
      },
      "execution_count": 17,
      "outputs": [
        {
          "output_type": "stream",
          "name": "stdout",
          "text": [
            "CPU times: user 11.5 s, sys: 183 ms, total: 11.7 s\n",
            "Wall time: 1min 35s\n"
          ]
        }
      ]
    },
    {
      "cell_type": "code",
      "source": [
        "text"
      ],
      "metadata": {
        "colab": {
          "base_uri": "https://localhost:8080/"
        },
        "id": "OcMCfmckUXJe",
        "outputId": "f89e950d-08b6-4868-b373-0d979486b2e5"
      },
      "execution_count": 18,
      "outputs": [
        {
          "output_type": "execute_result",
          "data": {
            "text/plain": [
              "{' Hello again everyone and welcome back to LearnLinuxTV': {'सभी को फिर से नमस्कार और LearnLinuxTV में आपका पुनः स्वागत है'},\n",
              " \" In today's episode of Linux Essentials, it's all about the usermod command\": {'लिनक्स एसेंशियल के आज के एपिसोड में, यह सब यूजरमॉड कमांड के बारे में है'},\n",
              " ' The usermod command helps you, well, modify users, which is where the name comes from': {'यूजरमॉड कमांड आपको उपयोगकर्ताओं को संशोधित करने में मदद करता है, जहां से नाम आता है'},\n",
              " \" And this isn't the first time that I've gone over user mod on this channel\": {'और यह पहली बार नहीं है कि मैं इस चैनल पर उपयोगकर्ता मॉड पर गया हूं'},\n",
              " \" In fact, it's one of those commands that I use all the time\": {'वास्तव में, यह उन आदेशों में से एक है जिनका मैं हर समय उपयोग करता हूं'},\n",
              " \" So I'm sure if you've caught other videos on my channel, you've probably seen me use the user mod command here and there\": {'इसलिए मुझे यकीन है कि अगर आपने मेरे चैनल पर अन्य वीडियो देखे हैं, तो आपने शायद मुझे यहां-वहां यूजर मॉड कमांड का उपयोग करते देखा होगा'},\n",
              " \" But in today's video, the user mod command gets its own video and I'm going to show you guys some of the things that user mod can do\": {'लेकिन आज के वीडियो में, यूजर मॉड कमांड को अपना वीडियो मिलता है और मैं आप लोगों को कुछ चीजें दिखाने जा रहा हूं जो यूजर मॉड कर सकता है'},\n",
              " \" So let's get started\": {'तो चलो शुरू हो जाओ'},\n",
              " \" and I'm going to show you guys some of the things that user mod can do\": {'और मैं आप लोगों को कुछ ऐसी चीज़ें दिखाने जा रहा हूँ जो उपयोगकर्ता मॉड कर सकता है'},\n",
              " ' In a nutshell, the user mod command allows you to, well, modify users': {'संक्षेप में, उपयोगकर्ता मॉड कमांड आपको उपयोगकर्ताओं को संशोधित करने की अनुमति देता है'},\n",
              " ' So what I could do, for example, is run sudo and then of course user mod': {'तो, उदाहरण के लिए, मैं क्या कर सकता था, सुडो चलाना और फिर निश्चित रूप से उपयोगकर्ता मॉड चलाना'},\n",
              " ' If I wanted to add my user to a group, for example, I could do that by typing \"-a\", and then uppercase G': {'उदाहरण के लिए, यदि मैं अपने उपयोगकर्ता को किसी समूह में जोड़ना चाहता हूँ, तो मैं \"-a\" टाइप करके और फिर अपरकेस G टाइप करके ऐसा कर सकता हूँ'},\n",
              " ' I want to add to a group, and then I type the name of the group that I want to add the user to': {'मैं किसी समूह में जोड़ना चाहता हूं, और फिर मैं उस समूह का नाम टाइप करता हूं जिसमें मैं उपयोगकर्ता को जोड़ना चाहता हूं'},\n",
              " \" So I'll attempt to add my user to the admins group, and then finally the name of the user that you want to add to that group\": {'इसलिए मैं अपने उपयोगकर्ता को व्यवस्थापक समूह में जोड़ने का प्रयास करूंगा, और फिर अंत में उस उपयोगकर्ता का नाम बताऊंगा जिसे आप उस समूह में जोड़ना चाहते हैं'},\n",
              " \" I'll type my sudo password here, but I'm not in the sudoers file, so I'm not actually able to use sudo\": {'मैं यहां अपना sudo पासवर्ड टाइप करूंगा, लेकिन मैं sudoers फ़ाइल में नहीं हूं, इसलिए मैं वास्तव में sudo का उपयोग करने में सक्षम नहीं हूं'},\n",
              " \" I'll go ahead and fix that right now\": {'मैं आगे बढ़ूंगा और इसे अभी ठीक कर दूंगा'},\n",
              " \" So what I'll do is log in as root, and then I'll run the same command\": {'तो मैं रूट के रूप में लॉग इन करूंगा, और फिर वही कमांड चलाऊंगा'},\n",
              " \" This time I don't need to use sudo because I'm logged in as root\": {'इस बार मुझे sudo का उपयोग करने की आवश्यकता नहीं है क्योंकि मैं रूट के रूप में लॉग इन हूं'},\n",
              " \" So I'll essentially type the same command again\": {'इसलिए मैं अनिवार्य रूप से वही कमांड दोबारा टाइप करूंगा'},\n",
              " ' So again, usermod-a and then uppercase G': {'तो फिर, यूजरमॉड-ए और फिर अपरकेस जी'},\n",
              " ' The group name is sudo, the username is j': {'समूह का नाम sudo है, उपयोगकर्ता नाम j है'},\n",
              " ' And as you can see, my user, j, is a member of the sudo group': {'और जैसा कि आप देख सकते हैं, मेरा उपयोगकर्ता, जे, सुडो समूह का सदस्य है'},\n",
              " \" So I'll log back into the server, and we'll continue\": {'तो मैं सर्वर में वापस लॉग इन करूंगा, और हम जारी रखेंगे'},\n",
              " ' And you just saw a really good example of the usermod command': {'और आपने अभी-अभी यूजरमॉड कमांड का एक बहुत अच्छा उदाहरण देखा है'},\n",
              " \" And this is the example command right here that I knew would fail, not just because I haven't created the admins group yet, but because my user wasn't even a member of the sudo group\": {'और यह यहीं उदाहरण आदेश है जिसके बारे में मुझे पता था कि यह विफल हो जाएगा, सिर्फ इसलिए नहीं कि मैंने अभी तक व्यवस्थापक समूह नहीं बनाया है, बल्कि इसलिए कि मेरा उपयोगकर्ता सूडो समूह का सदस्य भी नहीं था'},\n",
              " ' So what you just saw was a useful example of usermod': {'तो आपने अभी जो देखा वह यूजरमॉड का एक उपयोगी उदाहरण था'},\n",
              " ' In order to use sudo, you have to be a member of the sudo group, at least here on Ubuntu': {'सूडो का उपयोग करने के लिए, आपको सूडो समूह का सदस्य बनना होगा, कम से कम यहां उबंटू पर'},\n",
              " ' Sometimes that group could be called something different': {'कभी-कभी उस समूह को कुछ अलग भी कहा जा सकता है'},\n",
              " ' But the point is, you just saw me add my user to a group using the user mod command': {'लेकिन मुद्दा यह है कि, आपने अभी मुझे यूजर मॉड कमांड का उपयोग करके अपने उपयोगकर्ता को एक समूह में जोड़ते देखा है'},\n",
              " ' So what you now know is that the user mod command is useful for adding users to a group': {'तो अब आप जो जानते हैं वह यह है कि यूजर मॉड कमांड उपयोगकर्ताओं को किसी समूह में जोड़ने के लिए उपयोगी है'},\n",
              " \" Now what I'm going to do right now is just, well, add the group that I was originally going to add my user to\": {'अब मैं अभी जो करने जा रहा हूं वह बस उस समूह को जोड़ना है जिसमें मैं मूल रूप से अपने उपयोगकर्ता को जोड़ने जा रहा था'},\n",
              " ' Which was admins': {'जो एडमिन था'},\n",
              " ' And now what I can do is actually add my user to the admins group': {'और अब मैं वास्तव में अपने उपयोगकर्ता को व्यवस्थापक समूह में जोड़ सकता हूँ'},\n",
              " ' But before I press enter, what I want to show you guys is that you can actually add a user to more than one group in one command': {'लेकिन इससे पहले कि मैं एंटर दबाऊं, मैं आप लोगों को जो दिखाना चाहता हूं वह यह है कि आप वास्तव में एक कमांड में एक उपयोगकर्ता को एक से अधिक समूहों में जोड़ सकते हैं'},\n",
              " \" And that's really all there is to it\": {'और वास्तव में इसमें बस इतना ही है'},\n",
              " \" You just type a series of group names separated by comma and that's it\": {'आप बस अल्पविराम से अलग किए गए समूह नामों की एक श्रृंखला टाइप करें और बस इतना ही'},\n",
              " ' My user is already in the sudo group, so that part of it is pretty pointless': {'मेरा उपयोगकर्ता पहले से ही सूडो समूह में है, इसलिए इसका वह हिस्सा बिल्कुल व्यर्थ है'},\n",
              " \" But I'm not in the admins group yet, so I'll press enter\": {'लेकिन मैं अभी तक एडमिन ग्रुप में नहीं हूं, इसलिए मैं एंटर दबाऊंगा'},\n",
              " \" As you can see, I'm now a member of the admins group\": {'जैसा कि आप देख सकते हैं, मैं अब व्यवस्थापक समूह का सदस्य हूं'},\n",
              " \" Now keep in mind that even though I added my user to that group, that actually doesn't take effect until I log out and log back in\": {'अब ध्यान रखें कि भले ही मैंने अपने उपयोगकर्ता को उस समूह में जोड़ा है, लेकिन यह वास्तव में तब तक प्रभावी नहीं होता जब तक मैं लॉग आउट नहीं करता और वापस लॉग इन नहीं करता'},\n",
              " \" When I ran the groups command and I used my username as an argument, it just gave me the total list of groups that I'm a member of, not necessarily the groups that are currently in effect during this session\": {'जब मैंने समूह कमांड चलाया और मैंने अपने उपयोगकर्ता नाम को एक तर्क के रूप में इस्तेमाल किया, तो इसने मुझे उन समूहों की कुल सूची दी, जिनका मैं सदस्य हूं, जरूरी नहीं कि वे समूह जो इस सत्र के दौरान वर्तमान में प्रभावी हों।'},\n",
              " ' So like I mentioned, I would need to log out and log in for the new group membership to take effect': {'तो जैसा कि मैंने बताया, नई समूह सदस्यता को प्रभावी करने के लिए मुझे लॉग आउट और लॉग इन करना होगा'},\n",
              " \" Now let's take a look at another example\": {'अब एक और उदाहरण पर नजर डालते हैं'},\n",
              " \" So what if you wanted to, I don't know, change your home directory? Well that's another thing that the user mod command allows us to do\": {'तो क्या हुआ यदि आप, मुझे नहीं पता, अपनी होम निर्देशिका बदलना चाहते हैं? खैर यह एक और चीज़ है जो उपयोगकर्ता मॉड कमांड हमें करने की अनुमति देता है'},\n",
              " ' So I\\'ll run user mod along with sudo and the \"-d option is the option that\\'s associated with moving your home directory': {'इसलिए मैं sudo के साथ यूजर मॉड चलाऊंगा और \"-d विकल्प वह विकल्प है जो आपके होम डायरेक्टरी को स्थानांतरित करने से जुड़ा है'},\n",
              " \" I'll create it under slash home and I'm just going to call it my home, just a random directory\": {'मैं इसे स्लैश होम के अंतर्गत बनाऊंगा और मैं इसे अपना होम कहूंगा, बस एक यादृच्छिक निर्देशिका'},\n",
              " \" I'll create it under slash home and I'm just going to call it my home, just a random name\": {'मैं इसे स्लैश होम के अंतर्गत बनाऊंगा और मैं इसे अपना घर कहूंगा, बस एक यादृच्छिक नाम'},\n",
              " \" I think it'll work\": {'मुझे लगता है यह काम करेगा'},\n",
              " ' And then we type the name of the user that we want to target with this command': {'और फिर हम उस उपयोगकर्ता का नाम टाइप करते हैं जिसे हम इस कमांड से लक्षित करना चाहते हैं'},\n",
              " \" Now before I continue, there's another option that we might want to consider adding here\": {'अब इससे पहले कि मैं आगे बढ़ूं, एक और विकल्प है जिसे हम यहां जोड़ने पर विचार कर सकते हैं'},\n",
              " \" And that's the dash dash move dash home option\": {'और वह है डैश डैश मूव डैश होम विकल्प'},\n",
              " \" And what that's going to do is move the contents of the user's current home directory to the new home directory\": {'और वह जो करने जा रहा है वह उपयोगकर्ता की वर्तमान होम निर्देशिका की सामग्री को नई होम निर्देशिका में ले जाना है'},\n",
              " \" Let's press enter and try it out\": {'आइए एंटर दबाएं और इसे आज़माएं'},\n",
              " \" And of course I knew that would fail because well, I'm logged in as the user I'm trying to move the home directory for and that's not actually something that you should do\": {'और निश्चित रूप से मुझे पता था कि यह विफल हो जाएगा क्योंकि, मैं उस उपयोगकर्ता के रूप में लॉग इन हूं जिसके लिए मैं होम निर्देशिका को स्थानांतरित करने का प्रयास कर रहा हूं और यह वास्तव में कुछ ऐसा नहीं है जो आपको करना चाहिए'},\n",
              " \" So what I'm going to do right now is log out of this server\": {'तो अभी मैं जो करने जा रहा हूं वह इस सर्वर से लॉग आउट करना है'},\n",
              " \" And I'll log back in as root\": {'और मैं रूट के रूप में वापस लॉग इन करूंगा'},\n",
              " \" I'll type the exact same command again, except I won't include sudo, and let's give it a shot\": {'मैं बिल्कुल वही कमांड फिर से टाइप करूंगा, सिवाय इसके कि मैं सुडो को शामिल नहीं करूंगा, और आइए इसे एक बार आज़माएं'},\n",
              " ' Well that was easy': {'खैर यह आसान था'},\n",
              " \" Let's go ahead and log out and we'll see what happened\": {'आइए आगे बढ़ें और लॉग आउट करें और हम देखेंगे कि क्या हुआ'},\n",
              " \" So if I print my current working directory, you can see that I'm currently in slash home slash my home\": {'इसलिए यदि मैं अपनी वर्तमान कार्यशील निर्देशिका को प्रिंट करता हूं, तो आप देख सकते हैं कि मैं वर्तमान में स्लैश होम स्लैश माय होम में हूं'},\n",
              " ' And to further prove that the home directory move was successful, I can echo the contents of the home directory move was successful': {'और यह साबित करने के लिए कि होम डायरेक्ट्री चाल सफल रही, मैं होम डायरेक्ट्री चाल सफल होने की सामग्री की प्रतिध्वनि कर सकता हूँ'},\n",
              " ' I can echo the contents of the home environment variable and as you can see my home directory has indeed changed': {'मैं होम वातावरण चर की सामग्री को प्रतिध्वनित कर सकता हूं और जैसा कि आप देख सकते हैं कि मेरी होम निर्देशिका वास्तव में बदल गई है'},\n",
              " \" Now what's also interesting is that I didn't even create that directory and I didn't have to because the user mod command took care of that for me\": {'अब दिलचस्प बात यह है कि मैंने वह निर्देशिका बनाई भी नहीं थी और मुझे ऐसा करने की ज़रूरत भी नहीं थी क्योंकि उपयोगकर्ता मॉड कमांड ने मेरे लिए इसका ध्यान रखा था'},\n",
              " \" It must have seen that the directory didn't exist and it went ahead and created it\": {'इसने देखा होगा कि निर्देशिका मौजूद नहीं थी और उसने आगे बढ़कर इसे बनाया'},\n",
              " \" That's pretty useful\": {'यह काफी उपयोगी है'},\n",
              " \" So what I'm going to do is log out yet again\": {'तो मैं जो करने जा रहा हूं वह फिर से लॉग आउट करना है'},\n",
              " \" I'll log in as root\": {'मैं रूट के रूप में लॉग इन करूंगा'},\n",
              " \" And the reason for that is because I'm going to be changing my user even further\": {'और इसका कारण यह है कि मैं अपने उपयोगकर्ता को और भी अधिक बदलने जा रहा हूं'},\n",
              " \" And what I'm going to do specifically is change the name of my user account\": {'और जो मैं विशेष रूप से करने जा रहा हूं वह है अपने उपयोगकर्ता खाते का नाम बदलना'},\n",
              " \" So for that I'll type userod and then dash L\": {'तो उसके लिए मैं userod टाइप करूंगा और फिर L डैश करूंगा'},\n",
              " \" Next I'll type the new username that I want to be known as\": {'इसके बाद मैं नया उपयोक्तानाम टाइप करूंगा जिसके नाम से मैं जाना जाना चाहता हूं'},\n",
              " ' So my last initial is L': {'तो मेरा अंतिम अक्षर L है'},\n",
              " \" So I guess I'll name my user JL\": {'तो मुझे लगता है कि मैं अपने उपयोगकर्ता का नाम जेएल रखूंगा'},\n",
              " ' And then I type the current username, which of course is J': {'और फिर मैं वर्तमान उपयोगकर्ता नाम टाइप करता हूं, जो निश्चित रूप से जे है'},\n",
              " \" I'll press enter\": {'मैं एंटर दबाऊंगा'},\n",
              " \" And that's all there is to it\": {'और इसमें बस इतना ही है'},\n",
              " ' So if I cat the contents of Etsy password, the contents of Etsy password, we can see down here that my username is now JL': {'इसलिए यदि मैं Etsy पासवर्ड की सामग्री, Etsy पासवर्ड की सामग्री को कैट करता हूं, तो हम यहां नीचे देख सकते हैं कि मेरा उपयोगकर्ता नाम अब JL है'},\n",
              " ' Further, if I wanted to lock out a user, I could do that with user mod as well': {'इसके अलावा, अगर मैं किसी उपयोगकर्ता को लॉक करना चाहता हूं, तो मैं उपयोगकर्ता मॉड के साथ भी ऐसा कर सकता हूं'},\n",
              " ' And the syntax is simple': {'और वाक्यविन्यास सरल है'},\n",
              " ' I just type user mod, dash capital L this time, and then the name of the user': {'इस बार मैं केवल यूजर मॉड, डैश कैपिटल एल टाइप करता हूं और फिर यूजर का नाम टाइप करता हूं'},\n",
              " \" So I'll log out So, I'll log out, and I'll log in as my user account and confirm that I'm not able to do so\": {'तो, मैं लॉग आउट हो जाऊंगा इसलिए, मैं लॉग आउट हो जाऊंगा, और मैं अपने उपयोगकर्ता खाते के रूप में लॉग इन करूंगा और पुष्टि करूंगा कि मैं ऐसा करने में सक्षम नहीं हूं'},\n",
              " \" Now I'm pretty sure that I did indeed type the correct password, but I'll try that again to be safe\": {'अब मुझे पूरा यकीन है कि मैंने वास्तव में सही पासवर्ड टाइप किया है, लेकिन सुरक्षित रहने के लिए मैं इसे फिर से आज़माऊंगा'},\n",
              " ' And again': {'और फिर'},\n",
              " \" So it's not letting me in the system\": {'इसलिए यह मुझे सिस्टम में नहीं आने दे रहा है'},\n",
              " \" It's telling me that my password was wrong, but I promise you I typed in the correct password\": {'यह मुझे बता रहा है कि मेरा पासवर्ड गलत था, लेकिन मैं आपसे वादा करता हूं कि मैंने सही पासवर्ड टाइप किया है'},\n",
              " ' And this is just because I locked myself out of the server, which I did on purpose anyway': {'और यह सिर्फ इसलिए है क्योंकि मैंने खुद को सर्वर से लॉक कर लिया है, जो मैंने जानबूझकर किया था'},\n",
              " \" So I'll log back in as root\": {'तो मैं रूट के रूप में वापस लॉग इन करूंगा'},\n",
              " ' And then to unlock the user user I just changed the dash capital L to a dash capital U just like that': {'और फिर उपयोगकर्ता उपयोगकर्ता को अनलॉक करने के लिए मैंने डैश कैपिटल एल को उसी तरह डैश कैपिटल यू में बदल दिया'},\n",
              " \" Another thing that we can do is we can set an expiration date for the user's password as well\": {'एक और चीज़ जो हम कर सकते हैं वह यह है कि हम उपयोगकर्ता के पासवर्ड के लिए एक समाप्ति तिथि भी निर्धारित कर सकते हैं'},\n",
              " ' So the dash E option will allow us to set a date of expiration': {'तो डैश ई विकल्प हमें समाप्ति तिथि निर्धारित करने की अनुमति देगा'},\n",
              " \" And I'm recording this on August 20th\": {'और मैं इसे 20 अगस्त को रिकॉर्ड कर रहा हूं'},\n",
              " ' I will just make it expire on August 21st': {'मैं इसे 21 अगस्त को समाप्त कर दूँगा'},\n",
              " ' So technically, this account should expire tomorrow': {'इसलिए तकनीकी रूप से, यह खाता कल समाप्त हो जाना चाहिए'},\n",
              " ' And I should probably type the correct username': {'और मुझे संभवतः सही उपयोक्तानाम टाइप करना चाहिए'},\n",
              " \" That's pretty important\": {'यह बहुत महत्वपूर्ण है'},\n",
              " ' But anyway, to verify that I did in fact set the expiration properly, I can use the sage command': {'लेकिन फिर भी, यह सत्यापित करने के लिए कि मैंने वास्तव में समाप्ति तिथि ठीक से निर्धारित की है, मैं सेज कमांड का उपयोग कर सकता हूं'},\n",
              " ' So C-H-A-G-E, just like that': {'तो सी-एच-ए-जी-ई, बस ऐसे ही'},\n",
              " ' And then \"-l\"': {'और फिर \"-एल\"'},\n",
              " ' verify that I did in fact set the expiration properly, I can use the sage command': {'सत्यापित करें कि मैंने वास्तव में समाप्ति तिथि ठीक से निर्धारित की है, मैं सेज कमांड का उपयोग कर सकता हूं'},\n",
              " ' So chage, just like that': {'तो बदलो, बस ऐसे ही'},\n",
              " ' And then dash l': {'और फिर डैश एल'},\n",
              " ' And finally, the username that I want to inquire about': {'और अंत में, वह उपयोगकर्ता नाम जिसके बारे में मैं पूछताछ करना चाहता हूं'},\n",
              " \" I'll use mine yet again\": {'मैं फिर से अपना उपयोग करूंगा'},\n",
              " ' And right here, we can see that the expiration date is indeed August 21st': {'और यहीं, हम देख सकते हैं कि समाप्ति तिथि वास्तव में 21 अगस्त है'},\n",
              " \" So tomorrow, I won't be able to log into the server\": {'इसलिए कल, मैं सर्वर में लॉग इन नहीं कर पाऊंगा'},\n",
              " \" So anyway, what I'll do is exit out and I'll log back in as my user\": {'तो वैसे भी, मैं बाहर निकलूंगा और अपने उपयोगकर्ता के रूप में वापस लॉग इन करूंगा'},\n",
              " ' And now I can log in': {'और अब मैं लॉग इन कर सकता हूं'},\n",
              " \" I wasn't able to log in before because I locked out my user, but I also unlocked my user later, so now I'm able to get back into the server\": {'मैं पहले लॉग इन करने में सक्षम नहीं था क्योंकि मैंने अपने उपयोगकर्ता को लॉक कर दिया था, लेकिन मैंने बाद में अपने उपयोगकर्ता को भी अनलॉक कर दिया, इसलिए अब मैं सर्वर में वापस आने में सक्षम हूं'},\n",
              " \" so now I'm able to get back into the server\": {'तो अब मैं सर्वर में वापस आने में सक्षम हूं'},\n",
              " ' So there you go': {'तो यह तूम गए वहाँ'},\n",
              " ' I hope this video was helpful in teaching you guys some of the things that usermod can do': {'मुझे आशा है कि यह वीडियो आप लोगों को कुछ ऐसी चीजें सिखाने में सहायक होगा जो यूजरमॉड कर सकता है'},\n",
              " \" usermod is one of those commands that has all kinds of different uses, so it's impossible to go over every single one of those in one video\": {'यूजरमॉड उन कमांडों में से एक है जिनके सभी प्रकार के अलग-अलग उपयोग हैं, इसलिए उनमें से प्रत्येक को एक वीडियो में देखना असंभव है'},\n",
              " \" But I think the things that I've taught you so far should at least get you started or essentially teach you the essentials of this command, which is what this series aims to do\": {'लेकिन मुझे लगता है कि जो चीजें मैंने आपको अब तक सिखाई हैं, उन्हें कम से कम आपको आरंभ करना चाहिए या अनिवार्य रूप से आपको इस कमांड की अनिवार्यताएं सिखानी चाहिए, जो कि इस श्रृंखला का उद्देश्य है'},\n",
              " ' If you are liking this series so far please click that like button if you like this video and be sure to subscribe because more episodes in this Thank you': {'यदि आप अब तक इस श्रृंखला को पसंद कर रहे हैं तो कृपया उस लाइक बटन पर क्लिक करें यदि आपको यह वीडियो पसंद है और सदस्यता लेना सुनिश्चित करें क्योंकि इसमें और एपिसोड होंगे धन्यवाद'}}"
            ]
          },
          "metadata": {},
          "execution_count": 18
        }
      ]
    },
    {
      "cell_type": "markdown",
      "source": [
        "----------------------------------------------------"
      ],
      "metadata": {
        "id": "MQ33Vd4QV6ua"
      }
    },
    {
      "cell_type": "markdown",
      "source": [
        "# References\n",
        "## 1. [insanely-fast-whisper](https://github.com/Vaibhavs10/insanely-fast-whisper)\n",
        "## 2. [Youtube Summariser](https://github.com/jxcinta/youtube_summariser/blob/main/youtube_summariser.py)"
      ],
      "metadata": {
        "id": "gXZcSJ_iTCdD"
      }
    },
    {
      "cell_type": "code",
      "source": [],
      "metadata": {
        "id": "8oeoKBIq_n2H"
      },
      "execution_count": null,
      "outputs": []
    }
  ]
}